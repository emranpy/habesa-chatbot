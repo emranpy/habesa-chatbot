{
 "cells": [
  {
   "cell_type": "code",
   "execution_count": 1,
   "id": "23bca800",
   "metadata": {
    "_cell_guid": "b1076dfc-b9ad-4769-8c92-a6c4dae69d19",
    "_uuid": "8f2839f25d086af736a60e9eeb907d3b93b6e0e5",
    "execution": {
     "iopub.execute_input": "2023-10-23T12:02:58.001243Z",
     "iopub.status.busy": "2023-10-23T12:02:58.001005Z",
     "iopub.status.idle": "2023-10-23T12:02:59.234752Z",
     "shell.execute_reply": "2023-10-23T12:02:59.234025Z"
    },
    "papermill": {
     "duration": 1.240641,
     "end_time": "2023-10-23T12:02:59.236509",
     "exception": false,
     "start_time": "2023-10-23T12:02:57.995868",
     "status": "completed"
    },
    "tags": []
   },
   "outputs": [
    {
     "name": "stdout",
     "output_type": "stream",
     "text": [
      "/kaggle/input/vitbot/Academic_Regulations_3.2.pdf\n",
      "/kaggle/input/vitbot/QA.txt\n"
     ]
    }
   ],
   "source": [
    "# Habeshan chatbot using python 3\n",
 
    "\n",
    "import numpy as np # linear algebra\n",
    "import pandas as pd # data processing, CSV file I/O (e.g. pd.read_csv)\n",
    "\n",
    "# Input data files are available in the read-only \"../input/\" directory\n",
    "# For example, running this (by clicking run or pressing Shift+Enter) will list all files under the input directory\n",
    "\n",
    "import os\n",
    "for dirname, _, filenames in os.walk('/kaggle/input'):\n",
    "    for filename in filenames:\n",
    "        print(os.path.join(dirname, filename))\n",
    "\n",
    "# You can write up to 20GB to the current directory (/kaggle/working/) that gets preserved as output when you create a version using \"Save & Run All\" \n",
    "# You can also write temporary files to /kaggle/temp/, but they won't be saved outside of the current session"
   ]
  },
  {
   "cell_type": "code",
   "execution_count": 2,
   "id": "72f81ae4",
   "metadata": {
    "execution": {
     "iopub.execute_input": "2023-10-23T12:02:59.244512Z",
     "iopub.status.busy": "2023-10-23T12:02:59.244218Z",
     "iopub.status.idle": "2023-10-23T12:03:14.036482Z",
     "shell.execute_reply": "2023-10-23T12:03:14.035610Z"
    },
    "papermill": {
     "duration": 14.798673,
     "end_time": "2023-10-23T12:03:14.038675",
     "exception": false,
     "start_time": "2023-10-23T12:02:59.240002",
     "status": "completed"
    },
    "tags": []
   },
   "outputs": [
    {
     "name": "stdout",
     "output_type": "stream",
     "text": [
      "Collecting transformers\r\n",
      "  Downloading transformers-4.34.1-py3-none-any.whl (7.7 MB)\r\n",
      "\u001b[2K     \u001b[90m━━━━━━━━━━━━━━━━━━━━━━━━━━━━━━━━━━━━━━━━\u001b[0m \u001b[32m7.7/7.7 MB\u001b[0m \u001b[31m44.0 MB/s\u001b[0m eta \u001b[36m0:00:00\u001b[0m\r\n",
      "\u001b[?25hCollecting tokenizers<0.15,>=0.14\r\n",
      "  Downloading tokenizers-0.14.1-cp38-cp38-manylinux_2_17_x86_64.manylinux2014_x86_64.whl (3.8 MB)\r\n",
      "\u001b[2K     \u001b[90m━━━━━━━━━━━━━━━━━━━━━━━━━━━━━━━━━━━━━━━━\u001b[0m \u001b[32m3.8/3.8 MB\u001b[0m \u001b[31m59.4 MB/s\u001b[0m eta \u001b[36m0:00:00\u001b[0m\r\n",
      "\u001b[?25hCollecting huggingface-hub<1.0,>=0.16.4\r\n",
      "  Downloading huggingface_hub-0.18.0-py3-none-any.whl (301 kB)\r\n",
      "\u001b[2K     \u001b[90m━━━━━━━━━━━━━━━━━━━━━━━━━━━━━━━━━━━━━━\u001b[0m \u001b[32m302.0/302.0 kB\u001b[0m \u001b[31m20.9 MB/s\u001b[0m eta \u001b[36m0:00:00\u001b[0m\r\n",
      "\u001b[?25hRequirement already satisfied: tqdm>=4.27 in /usr/local/lib/python3.8/site-packages (from transformers) (4.65.0)\r\n",
      "Requirement already satisfied: packaging>=20.0 in /usr/local/lib/python3.8/site-packages (from transformers) (23.1)\r\n",
      "Requirement already satisfied: requests in /usr/local/lib/python3.8/site-packages (from transformers) (2.31.0)\r\n",
      "Requirement already satisfied: pyyaml>=5.1 in /usr/local/lib/python3.8/site-packages (from transformers) (6.0)\r\n",
      "Requirement already satisfied: numpy>=1.17 in /usr/local/lib/python3.8/site-packages (from transformers) (1.23.5)\r\n",
      "Requirement already satisfied: filelock in /usr/local/lib/python3.8/site-packages (from transformers) (3.12.2)\r\n",
      "Collecting regex!=2019.12.17\r\n",
      "  Downloading regex-2023.10.3-cp38-cp38-manylinux_2_17_x86_64.manylinux2014_x86_64.whl (776 kB)\r\n",
      "\u001b[2K     \u001b[90m━━━━━━━━━━━━━━━━━━━━━━━━━━━━━━━━━━━━━━\u001b[0m \u001b[32m777.0/777.0 kB\u001b[0m \u001b[31m37.2 MB/s\u001b[0m eta \u001b[36m0:00:00\u001b[0m\r\n",
      "\u001b[?25hCollecting safetensors>=0.3.1\r\n",
      "  Downloading safetensors-0.4.0-cp38-cp38-manylinux_2_17_x86_64.manylinux2014_x86_64.whl (1.3 MB)\r\n",
      "\u001b[2K     \u001b[90m━━━━━━━━━━━━━━━━━━━━━━━━━━━━━━━━━━━━━━━━\u001b[0m \u001b[32m1.3/1.3 MB\u001b[0m \u001b[31m55.0 MB/s\u001b[0m eta \u001b[36m0:00:00\u001b[0m\r\n",
      "\u001b[?25hCollecting fsspec>=2023.5.0\r\n",
      "  Downloading fsspec-2023.10.0-py3-none-any.whl (166 kB)\r\n",
      "\u001b[2K     \u001b[90m━━━━━━━━━━━━━━━━━━━━━━━━━━━━━━━━━━━━━\u001b[0m \u001b[32m166.4/166.4 kB\u001b[0m \u001b[31m281.0 kB/s\u001b[0m eta \u001b[36m0:00:00\u001b[0m\r\n",
      "\u001b[?25hRequirement already satisfied: typing-extensions>=3.7.4.3 in /usr/local/lib/python3.8/site-packages (from huggingface-hub<1.0,>=0.16.4->transformers) (4.7.1)\r\n",
      "Collecting huggingface-hub<1.0,>=0.16.4\r\n",
      "  Downloading huggingface_hub-0.17.3-py3-none-any.whl (295 kB)\r\n",
      "\u001b[2K     \u001b[90m━━━━━━━━━━━━━━━━━━━━━━━━━━━━━━━━━━━━━━\u001b[0m \u001b[32m295.0/295.0 kB\u001b[0m \u001b[31m20.3 MB/s\u001b[0m eta \u001b[36m0:00:00\u001b[0m\r\n",
      "\u001b[?25hRequirement already satisfied: certifi>=2017.4.17 in /usr/local/lib/python3.8/site-packages (from requests->transformers) (2023.5.7)\r\n",
      "Requirement already satisfied: charset-normalizer<4,>=2 in /usr/local/lib/python3.8/site-packages (from requests->transformers) (3.2.0)\r\n",
      "Requirement already satisfied: idna<4,>=2.5 in /usr/local/lib/python3.8/site-packages (from requests->transformers) (3.4)\r\n",
      "Requirement already satisfied: urllib3<3,>=1.21.1 in /usr/local/lib/python3.8/site-packages (from requests->transformers) (1.26.16)\r\n",
      "Installing collected packages: safetensors, regex, fsspec, huggingface-hub, tokenizers, transformers\r\n",
      "Successfully installed fsspec-2023.10.0 huggingface-hub-0.17.3 regex-2023.10.3 safetensors-0.4.0 tokenizers-0.14.1 transformers-4.34.1\r\n",
      "\u001b[33mWARNING: Running pip as the 'root' user can result in broken permissions and conflicting behaviour with the system package manager. It is recommended to use a virtual environment instead: https://pip.pypa.io/warnings/venv\u001b[0m\u001b[33m\r\n",
      "\u001b[0m\r\n",
      "\u001b[1m[\u001b[0m\u001b[34;49mnotice\u001b[0m\u001b[1;39;49m]\u001b[0m\u001b[39;49m A new release of pip is available: \u001b[0m\u001b[31;49m23.0.1\u001b[0m\u001b[39;49m -> \u001b[0m\u001b[32;49m23.3.1\u001b[0m\r\n",
      "\u001b[1m[\u001b[0m\u001b[34;49mnotice\u001b[0m\u001b[1;39;49m]\u001b[0m\u001b[39;49m To update, run: \u001b[0m\u001b[32;49mpip install --upgrade pip\u001b[0m\r\n"
     ]
    }
   ],
   "source": [
    "!pip install transformers"
   ]
  },
  {
   "cell_type": "code",
   "execution_count": 3,
   "id": "982b1099",
   "metadata": {
    "execution": {
     "iopub.execute_input": "2023-10-23T12:03:14.050681Z",
     "iopub.status.busy": "2023-10-23T12:03:14.050379Z",
     "iopub.status.idle": "2023-10-23T12:03:21.207933Z",
     "shell.execute_reply": "2023-10-23T12:03:21.206966Z"
    },
    "papermill": {
     "duration": 7.165793,
     "end_time": "2023-10-23T12:03:21.209973",
     "exception": false,
     "start_time": "2023-10-23T12:03:14.044180",
     "status": "completed"
    },
    "tags": []
   },
   "outputs": [
    {
     "name": "stdout",
     "output_type": "stream",
     "text": [
      "Requirement already satisfied: transformers in /usr/local/lib/python3.8/site-packages (4.34.1)\r\n",
      "Collecting pymupdf\r\n",
      "  Downloading PyMuPDF-1.23.5-cp38-none-manylinux2014_x86_64.whl (4.3 MB)\r\n",
      "\u001b[2K     \u001b[90m━━━━━━━━━━━━━━━━━━━━━━━━━━━━━━━━━━━━━━━━\u001b[0m \u001b[32m4.3/4.3 MB\u001b[0m \u001b[31m27.1 MB/s\u001b[0m eta \u001b[36m0:00:00\u001b[0m\r\n",
      "\u001b[?25hRequirement already satisfied: safetensors>=0.3.1 in /usr/local/lib/python3.8/site-packages (from transformers) (0.4.0)\r\n",
      "Requirement already satisfied: tqdm>=4.27 in /usr/local/lib/python3.8/site-packages (from transformers) (4.65.0)\r\n",
      "Requirement already satisfied: tokenizers<0.15,>=0.14 in /usr/local/lib/python3.8/site-packages (from transformers) (0.14.1)\r\n",
      "Requirement already satisfied: filelock in /usr/local/lib/python3.8/site-packages (from transformers) (3.12.2)\r\n",
      "Requirement already satisfied: packaging>=20.0 in /usr/local/lib/python3.8/site-packages (from transformers) (23.1)\r\n",
      "Requirement already satisfied: numpy>=1.17 in /usr/local/lib/python3.8/site-packages (from transformers) (1.23.5)\r\n",
      "Requirement already satisfied: regex!=2019.12.17 in /usr/local/lib/python3.8/site-packages (from transformers) (2023.10.3)\r\n",
      "Requirement already satisfied: huggingface-hub<1.0,>=0.16.4 in /usr/local/lib/python3.8/site-packages (from transformers) (0.17.3)\r\n",
      "Requirement already satisfied: pyyaml>=5.1 in /usr/local/lib/python3.8/site-packages (from transformers) (6.0)\r\n",
      "Requirement already satisfied: requests in /usr/local/lib/python3.8/site-packages (from transformers) (2.31.0)\r\n",
      "Collecting PyMuPDFb==1.23.5\r\n",
      "  Downloading PyMuPDFb-1.23.5-py3-none-manylinux2014_x86_64.manylinux_2_17_x86_64.whl (30.6 MB)\r\n",
      "\u001b[2K     \u001b[90m━━━━━━━━━━━━━━━━━━━━━━━━━━━━━━━━━━━━━━━━\u001b[0m \u001b[32m30.6/30.6 MB\u001b[0m \u001b[31m32.0 MB/s\u001b[0m eta \u001b[36m0:00:00\u001b[0m\r\n",
      "\u001b[?25hRequirement already satisfied: fsspec in /usr/local/lib/python3.8/site-packages (from huggingface-hub<1.0,>=0.16.4->transformers) (2023.10.0)\r\n",
      "Requirement already satisfied: typing-extensions>=3.7.4.3 in /usr/local/lib/python3.8/site-packages (from huggingface-hub<1.0,>=0.16.4->transformers) (4.7.1)\r\n",
      "Requirement already satisfied: certifi>=2017.4.17 in /usr/local/lib/python3.8/site-packages (from requests->transformers) (2023.5.7)\r\n",
      "Requirement already satisfied: urllib3<3,>=1.21.1 in /usr/local/lib/python3.8/site-packages (from requests->transformers) (1.26.16)\r\n",
      "Requirement already satisfied: idna<4,>=2.5 in /usr/local/lib/python3.8/site-packages (from requests->transformers) (3.4)\r\n",
      "Requirement already satisfied: charset-normalizer<4,>=2 in /usr/local/lib/python3.8/site-packages (from requests->transformers) (3.2.0)\r\n",
      "Installing collected packages: PyMuPDFb, pymupdf\r\n",
      "Successfully installed PyMuPDFb-1.23.5 pymupdf-1.23.5\r\n",
      "\u001b[33mWARNING: Running pip as the 'root' user can result in broken permissions and conflicting behaviour with the system package manager. It is recommended to use a virtual environment instead: https://pip.pypa.io/warnings/venv\u001b[0m\u001b[33m\r\n",
      "\u001b[0m\r\n",
      "\u001b[1m[\u001b[0m\u001b[34;49mnotice\u001b[0m\u001b[1;39;49m]\u001b[0m\u001b[39;49m A new release of pip is available: \u001b[0m\u001b[31;49m23.0.1\u001b[0m\u001b[39;49m -> \u001b[0m\u001b[32;49m23.3.1\u001b[0m\r\n",
      "\u001b[1m[\u001b[0m\u001b[34;49mnotice\u001b[0m\u001b[1;39;49m]\u001b[0m\u001b[39;49m To update, run: \u001b[0m\u001b[32;49mpip install --upgrade pip\u001b[0m\r\n"
     ]
    }
   ],
   "source": [
    "!pip install transformers pymupdf"
   ]
  },
  {
   "cell_type": "code",
   "execution_count": 4,
   "id": "e8e9dabd",
   "metadata": {
    "execution": {
     "iopub.execute_input": "2023-10-23T12:03:21.224745Z",
     "iopub.status.busy": "2023-10-23T12:03:21.224403Z",
     "iopub.status.idle": "2023-10-23T12:03:25.789953Z",
     "shell.execute_reply": "2023-10-23T12:03:25.788846Z"
    },
    "papermill": {
     "duration": 4.575619,
     "end_time": "2023-10-23T12:03:25.792098",
     "exception": false,
     "start_time": "2023-10-23T12:03:21.216479",
     "status": "completed"
    },
    "tags": []
   },
   "outputs": [
    {
     "name": "stdout",
     "output_type": "stream",
     "text": [
      "Requirement already satisfied: tokenizers in /usr/local/lib/python3.8/site-packages (0.14.1)\r\n",
      "Requirement already satisfied: huggingface_hub<0.18,>=0.16.4 in /usr/local/lib/python3.8/site-packages (from tokenizers) (0.17.3)\r\n",
      "Requirement already satisfied: fsspec in /usr/local/lib/python3.8/site-packages (from huggingface_hub<0.18,>=0.16.4->tokenizers) (2023.10.0)\r\n",
      "Requirement already satisfied: tqdm>=4.42.1 in /usr/local/lib/python3.8/site-packages (from huggingface_hub<0.18,>=0.16.4->tokenizers) (4.65.0)\r\n",
      "Requirement already satisfied: requests in /usr/local/lib/python3.8/site-packages (from huggingface_hub<0.18,>=0.16.4->tokenizers) (2.31.0)\r\n",
      "Requirement already satisfied: packaging>=20.9 in /usr/local/lib/python3.8/site-packages (from huggingface_hub<0.18,>=0.16.4->tokenizers) (23.1)\r\n",
      "Requirement already satisfied: typing-extensions>=3.7.4.3 in /usr/local/lib/python3.8/site-packages (from huggingface_hub<0.18,>=0.16.4->tokenizers) (4.7.1)\r\n",
      "Requirement already satisfied: filelock in /usr/local/lib/python3.8/site-packages (from huggingface_hub<0.18,>=0.16.4->tokenizers) (3.12.2)\r\n",
      "Requirement already satisfied: pyyaml>=5.1 in /usr/local/lib/python3.8/site-packages (from huggingface_hub<0.18,>=0.16.4->tokenizers) (6.0)\r\n",
      "Requirement already satisfied: urllib3<3,>=1.21.1 in /usr/local/lib/python3.8/site-packages (from requests->huggingface_hub<0.18,>=0.16.4->tokenizers) (1.26.16)\r\n",
      "Requirement already satisfied: idna<4,>=2.5 in /usr/local/lib/python3.8/site-packages (from requests->huggingface_hub<0.18,>=0.16.4->tokenizers) (3.4)\r\n",
      "Requirement already satisfied: certifi>=2017.4.17 in /usr/local/lib/python3.8/site-packages (from requests->huggingface_hub<0.18,>=0.16.4->tokenizers) (2023.5.7)\r\n",
      "Requirement already satisfied: charset-normalizer<4,>=2 in /usr/local/lib/python3.8/site-packages (from requests->huggingface_hub<0.18,>=0.16.4->tokenizers) (3.2.0)\r\n",
      "\u001b[33mWARNING: Running pip as the 'root' user can result in broken permissions and conflicting behaviour with the system package manager. It is recommended to use a virtual environment instead: https://pip.pypa.io/warnings/venv\u001b[0m\u001b[33m\r\n",
      "\u001b[0m\r\n",
      "\u001b[1m[\u001b[0m\u001b[34;49mnotice\u001b[0m\u001b[1;39;49m]\u001b[0m\u001b[39;49m A new release of pip is available: \u001b[0m\u001b[31;49m23.0.1\u001b[0m\u001b[39;49m -> \u001b[0m\u001b[32;49m23.3.1\u001b[0m\r\n",
      "\u001b[1m[\u001b[0m\u001b[34;49mnotice\u001b[0m\u001b[1;39;49m]\u001b[0m\u001b[39;49m To update, run: \u001b[0m\u001b[32;49mpip install --upgrade pip\u001b[0m\r\n"
     ]
    }
   ],
   "source": [
    "!pip install tokenizers"
   ]
  },
  {
   "cell_type": "code",
   "execution_count": 5,
   "id": "2c4aa4fc",
   "metadata": {
    "execution": {
     "iopub.execute_input": "2023-10-23T12:03:25.806947Z",
     "iopub.status.busy": "2023-10-23T12:03:25.806650Z",
     "iopub.status.idle": "2023-10-23T12:03:33.100374Z",
     "shell.execute_reply": "2023-10-23T12:03:33.099268Z"
    },
    "papermill": {
     "duration": 7.304182,
     "end_time": "2023-10-23T12:03:33.102867",
     "exception": false,
     "start_time": "2023-10-23T12:03:25.798685",
     "status": "completed"
    },
    "tags": []
   },
   "outputs": [
    {
     "name": "stdout",
     "output_type": "stream",
     "text": [
      "Collecting sentence-transformers\r\n",
      "  Downloading sentence-transformers-2.2.2.tar.gz (85 kB)\r\n",
      "\u001b[2K     \u001b[90m━━━━━━━━━━━━━━━━━━━━━━━━━━━━━━━━━━━━━━━━\u001b[0m \u001b[32m86.0/86.0 kB\u001b[0m \u001b[31m2.4 MB/s\u001b[0m eta \u001b[36m0:00:00\u001b[0m\r\n",
      "\u001b[?25h  Preparing metadata (setup.py) ... \u001b[?25l-\b \bdone\r\n",
      "\u001b[?25hRequirement already satisfied: transformers<5.0.0,>=4.6.0 in /usr/local/lib/python3.8/site-packages (from sentence-transformers) (4.34.1)\r\n",
      "Requirement already satisfied: tqdm in /usr/local/lib/python3.8/site-packages (from sentence-transformers) (4.65.0)\r\n",
      "Requirement already satisfied: torch>=1.6.0 in /usr/local/lib/python3.8/site-packages (from sentence-transformers) (2.0.0)\r\n",
      "Requirement already satisfied: torchvision in /usr/local/lib/python3.8/site-packages (from sentence-transformers) (0.15.1)\r\n",
      "Requirement already satisfied: numpy in /usr/local/lib/python3.8/site-packages (from sentence-transformers) (1.23.5)\r\n",
      "Requirement already satisfied: scikit-learn in /usr/local/lib/python3.8/site-packages (from sentence-transformers) (1.3.0)\r\n",
      "Requirement already satisfied: scipy in /usr/local/lib/python3.8/site-packages (from sentence-transformers) (1.10.1)\r\n",
      "Collecting nltk\r\n",
      "  Downloading nltk-3.8.1-py3-none-any.whl (1.5 MB)\r\n",
      "\u001b[2K     \u001b[90m━━━━━━━━━━━━━━━━━━━━━━━━━━━━━━━━━━━━━━━━\u001b[0m \u001b[32m1.5/1.5 MB\u001b[0m \u001b[31m24.9 MB/s\u001b[0m eta \u001b[36m0:00:00\u001b[0m\r\n",
      "\u001b[?25hCollecting sentencepiece\r\n",
      "  Downloading sentencepiece-0.1.99-cp38-cp38-manylinux_2_17_x86_64.manylinux2014_x86_64.whl (1.3 MB)\r\n",
      "\u001b[2K     \u001b[90m━━━━━━━━━━━━━━━━━━━━━━━━━━━━━━━━━━━━━━━━\u001b[0m \u001b[32m1.3/1.3 MB\u001b[0m \u001b[31m42.7 MB/s\u001b[0m eta \u001b[36m0:00:00\u001b[0m\r\n",
      "\u001b[?25hRequirement already satisfied: huggingface-hub>=0.4.0 in /usr/local/lib/python3.8/site-packages (from sentence-transformers) (0.17.3)\r\n",
      "Requirement already satisfied: packaging>=20.9 in /usr/local/lib/python3.8/site-packages (from huggingface-hub>=0.4.0->sentence-transformers) (23.1)\r\n",
      "Requirement already satisfied: typing-extensions>=3.7.4.3 in /usr/local/lib/python3.8/site-packages (from huggingface-hub>=0.4.0->sentence-transformers) (4.7.1)\r\n",
      "Requirement already satisfied: pyyaml>=5.1 in /usr/local/lib/python3.8/site-packages (from huggingface-hub>=0.4.0->sentence-transformers) (6.0)\r\n",
      "Requirement already satisfied: filelock in /usr/local/lib/python3.8/site-packages (from huggingface-hub>=0.4.0->sentence-transformers) (3.12.2)\r\n",
      "Requirement already satisfied: fsspec in /usr/local/lib/python3.8/site-packages (from huggingface-hub>=0.4.0->sentence-transformers) (2023.10.0)\r\n",
      "Requirement already satisfied: requests in /usr/local/lib/python3.8/site-packages (from huggingface-hub>=0.4.0->sentence-transformers) (2.31.0)\r\n",
      "Requirement already satisfied: jinja2 in /usr/local/lib/python3.8/site-packages (from torch>=1.6.0->sentence-transformers) (3.1.2)\r\n",
      "Requirement already satisfied: nvidia-cuda-cupti-cu11==11.7.101 in /usr/local/lib/python3.8/site-packages (from torch>=1.6.0->sentence-transformers) (11.7.101)\r\n",
      "Requirement already satisfied: nvidia-curand-cu11==10.2.10.91 in /usr/local/lib/python3.8/site-packages (from torch>=1.6.0->sentence-transformers) (10.2.10.91)\r\n",
      "Requirement already satisfied: nvidia-cuda-nvrtc-cu11==11.7.99 in /usr/local/lib/python3.8/site-packages (from torch>=1.6.0->sentence-transformers) (11.7.99)\r\n",
      "Requirement already satisfied: nvidia-cublas-cu11==11.10.3.66 in /usr/local/lib/python3.8/site-packages (from torch>=1.6.0->sentence-transformers) (11.10.3.66)\r\n",
      "Requirement already satisfied: sympy in /usr/local/lib/python3.8/site-packages (from torch>=1.6.0->sentence-transformers) (1.12)\r\n",
      "Requirement already satisfied: networkx in /usr/local/lib/python3.8/site-packages (from torch>=1.6.0->sentence-transformers) (3.1)\r\n",
      "Requirement already satisfied: nvidia-cusparse-cu11==11.7.4.91 in /usr/local/lib/python3.8/site-packages (from torch>=1.6.0->sentence-transformers) (11.7.4.91)\r\n",
      "Requirement already satisfied: nvidia-cudnn-cu11==8.5.0.96 in /usr/local/lib/python3.8/site-packages (from torch>=1.6.0->sentence-transformers) (8.5.0.96)\r\n",
      "Requirement already satisfied: triton==2.0.0 in /usr/local/lib/python3.8/site-packages (from torch>=1.6.0->sentence-transformers) (2.0.0)\r\n",
      "Requirement already satisfied: nvidia-cuda-runtime-cu11==11.7.99 in /usr/local/lib/python3.8/site-packages (from torch>=1.6.0->sentence-transformers) (11.7.99)\r\n",
      "Requirement already satisfied: nvidia-cufft-cu11==10.9.0.58 in /usr/local/lib/python3.8/site-packages (from torch>=1.6.0->sentence-transformers) (10.9.0.58)\r\n",
      "Requirement already satisfied: nvidia-cusolver-cu11==11.4.0.1 in /usr/local/lib/python3.8/site-packages (from torch>=1.6.0->sentence-transformers) (11.4.0.1)\r\n",
      "Requirement already satisfied: nvidia-nvtx-cu11==11.7.91 in /usr/local/lib/python3.8/site-packages (from torch>=1.6.0->sentence-transformers) (11.7.91)\r\n",
      "Requirement already satisfied: nvidia-nccl-cu11==2.14.3 in /usr/local/lib/python3.8/site-packages (from torch>=1.6.0->sentence-transformers) (2.14.3)\r\n",
      "Requirement already satisfied: wheel in /usr/local/lib/python3.8/site-packages (from nvidia-cublas-cu11==11.10.3.66->torch>=1.6.0->sentence-transformers) (0.40.0)\r\n",
      "Requirement already satisfied: setuptools in /usr/local/lib/python3.8/site-packages (from nvidia-cublas-cu11==11.10.3.66->torch>=1.6.0->sentence-transformers) (57.5.0)\r\n",
      "Requirement already satisfied: lit in /usr/local/lib/python3.8/site-packages (from triton==2.0.0->torch>=1.6.0->sentence-transformers) (16.0.6)\r\n",
      "Requirement already satisfied: cmake in /usr/local/lib/python3.8/site-packages (from triton==2.0.0->torch>=1.6.0->sentence-transformers) (3.26.4)\r\n",
      "Requirement already satisfied: regex!=2019.12.17 in /usr/local/lib/python3.8/site-packages (from transformers<5.0.0,>=4.6.0->sentence-transformers) (2023.10.3)\r\n",
      "Requirement already satisfied: tokenizers<0.15,>=0.14 in /usr/local/lib/python3.8/site-packages (from transformers<5.0.0,>=4.6.0->sentence-transformers) (0.14.1)\r\n",
      "Requirement already satisfied: safetensors>=0.3.1 in /usr/local/lib/python3.8/site-packages (from transformers<5.0.0,>=4.6.0->sentence-transformers) (0.4.0)\r\n",
      "Requirement already satisfied: click in /usr/local/lib/python3.8/site-packages (from nltk->sentence-transformers) (8.1.4)\r\n",
      "Requirement already satisfied: joblib in /usr/local/lib/python3.8/site-packages (from nltk->sentence-transformers) (1.3.1)\r\n",
      "Requirement already satisfied: threadpoolctl>=2.0.0 in /usr/local/lib/python3.8/site-packages (from scikit-learn->sentence-transformers) (3.1.0)\r\n",
      "Requirement already satisfied: pillow!=8.3.*,>=5.3.0 in /usr/local/lib/python3.8/site-packages (from torchvision->sentence-transformers) (10.0.0)\r\n",
      "Requirement already satisfied: MarkupSafe>=2.0 in /usr/local/lib/python3.8/site-packages (from jinja2->torch>=1.6.0->sentence-transformers) (2.1.3)\r\n",
      "Requirement already satisfied: charset-normalizer<4,>=2 in /usr/local/lib/python3.8/site-packages (from requests->huggingface-hub>=0.4.0->sentence-transformers) (3.2.0)\r\n",
      "Requirement already satisfied: urllib3<3,>=1.21.1 in /usr/local/lib/python3.8/site-packages (from requests->huggingface-hub>=0.4.0->sentence-transformers) (1.26.16)\r\n",
      "Requirement already satisfied: certifi>=2017.4.17 in /usr/local/lib/python3.8/site-packages (from requests->huggingface-hub>=0.4.0->sentence-transformers) (2023.5.7)\r\n",
      "Requirement already satisfied: idna<4,>=2.5 in /usr/local/lib/python3.8/site-packages (from requests->huggingface-hub>=0.4.0->sentence-transformers) (3.4)\r\n",
      "Requirement already satisfied: mpmath>=0.19 in /usr/local/lib/python3.8/site-packages (from sympy->torch>=1.6.0->sentence-transformers) (1.3.0)\r\n",
      "Building wheels for collected packages: sentence-transformers\r\n",
      "  Building wheel for sentence-transformers (setup.py) ... \u001b[?25l-\b \b\\\b \bdone\r\n",
      "\u001b[?25h  Created wheel for sentence-transformers: filename=sentence_transformers-2.2.2-py3-none-any.whl size=125938 sha256=0d67dd440595f81ae586062b409d40faa0e831ba209efa8af2ce6f936c7189d7\r\n",
      "  Stored in directory: /root/.cache/pip/wheels/5e/6f/8c/d88aec621f3f542d26fac0342bef5e693335d125f4e54aeffe\r\n",
      "Successfully built sentence-transformers\r\n",
      "Installing collected packages: sentencepiece, nltk, sentence-transformers\r\n",
      "Successfully installed nltk-3.8.1 sentence-transformers-2.2.2 sentencepiece-0.1.99\r\n",
      "\u001b[33mWARNING: Running pip as the 'root' user can result in broken permissions and conflicting behaviour with the system package manager. It is recommended to use a virtual environment instead: https://pip.pypa.io/warnings/venv\u001b[0m\u001b[33m\r\n",
      "\u001b[0m\r\n",
      "\u001b[1m[\u001b[0m\u001b[34;49mnotice\u001b[0m\u001b[1;39;49m]\u001b[0m\u001b[39;49m A new release of pip is available: \u001b[0m\u001b[31;49m23.0.1\u001b[0m\u001b[39;49m -> \u001b[0m\u001b[32;49m23.3.1\u001b[0m\r\n",
      "\u001b[1m[\u001b[0m\u001b[34;49mnotice\u001b[0m\u001b[1;39;49m]\u001b[0m\u001b[39;49m To update, run: \u001b[0m\u001b[32;49mpip install --upgrade pip\u001b[0m\r\n"
     ]
    }
   ],
   "source": [
    "!pip install sentence-transformers"
   ]
  },
  {
   "cell_type": "code",
   "execution_count": 6,
   "id": "a9863c64",
   "metadata": {
    "execution": {
     "iopub.execute_input": "2023-10-23T12:03:33.120973Z",
     "iopub.status.busy": "2023-10-23T12:03:33.120672Z",
     "iopub.status.idle": "2023-10-23T12:05:00.019509Z",
     "shell.execute_reply": "2023-10-23T12:05:00.018608Z"
    },
    "papermill": {
     "duration": 86.910315,
     "end_time": "2023-10-23T12:05:00.021561",
     "exception": false,
     "start_time": "2023-10-23T12:03:33.111246",
     "status": "completed"
    },
    "tags": []
   },
   "outputs": [
    {
     "name": "stderr",
     "output_type": "stream",
     "text": [
      "/usr/local/lib/python3.8/site-packages/tqdm/auto.py:21: TqdmWarning: IProgress not found. Please update jupyter and ipywidgets. See https://ipywidgets.readthedocs.io/en/stable/user_install.html\n",
      "  from .autonotebook import tqdm as notebook_tqdm\n",
      "Downloading (…)lve/main/config.json: 100%|██████████| 1.58k/1.58k [00:00<00:00, 164kB/s]\n",
      "Downloading pytorch_model.bin: 100%|██████████| 1.63G/1.63G [00:54<00:00, 29.7MB/s]\n",
      "Downloading (…)neration_config.json: 100%|██████████| 363/363 [00:00<00:00, 44.8kB/s]\n",
      "Downloading (…)olve/main/vocab.json: 100%|██████████| 899k/899k [00:00<00:00, 12.6MB/s]\n",
      "Downloading (…)olve/main/merges.txt: 100%|██████████| 456k/456k [00:00<00:00, 9.25MB/s]\n",
      "Downloading (…)/main/tokenizer.json: 100%|██████████| 1.36M/1.36M [00:00<00:00, 16.0MB/s]\n"
     ]
    }
   ],
   "source": [
    "from transformers import BartForConditionalGeneration, BartTokenizer\n",
    "\n",
    "# Load the pre-trained BART model and tokenizer\n",
    "model_name = \"facebook/bart-large-cnn\"\n",
    "model = BartForConditionalGeneration.from_pretrained(model_name)\n",
    "tokenizer = BartTokenizer.from_pretrained(model_name)"
   ]
  },
  {
   "cell_type": "code",
   "execution_count": 7,
   "id": "c740c5e5",
   "metadata": {
    "execution": {
     "iopub.execute_input": "2023-10-23T12:05:00.056047Z",
     "iopub.status.busy": "2023-10-23T12:05:00.055611Z",
     "iopub.status.idle": "2023-10-23T12:05:04.729825Z",
     "shell.execute_reply": "2023-10-23T12:05:04.728996Z"
    },
    "papermill": {
     "duration": 4.694028,
     "end_time": "2023-10-23T12:05:04.732077",
     "exception": false,
     "start_time": "2023-10-23T12:05:00.038049",
     "status": "completed"
    },
    "tags": []
   },
   "outputs": [
    {
     "name": "stderr",
     "output_type": "stream",
     "text": [
      "Downloading (…)001fa/.gitattributes: 100%|██████████| 690/690 [00:00<00:00, 412kB/s]\n",
      "Downloading (…)_Pooling/config.json: 100%|██████████| 190/190 [00:00<00:00, 117kB/s]\n",
      "Downloading (…)3bbb8001fa/README.md: 100%|██████████| 3.69k/3.69k [00:00<00:00, 2.19MB/s]\n",
      "Downloading (…)bb8001fa/config.json: 100%|██████████| 629/629 [00:00<00:00, 380kB/s]\n",
      "Downloading (…)ce_transformers.json: 100%|██████████| 122/122 [00:00<00:00, 78.6kB/s]\n",
      "Downloading pytorch_model.bin: 100%|██████████| 90.9M/90.9M [00:00<00:00, 140MB/s]\n",
      "Downloading (…)nce_bert_config.json: 100%|██████████| 53.0/53.0 [00:00<00:00, 31.7kB/s]\n",
      "Downloading (…)cial_tokens_map.json: 100%|██████████| 112/112 [00:00<00:00, 73.5kB/s]\n",
      "Downloading (…)001fa/tokenizer.json: 100%|██████████| 466k/466k [00:00<00:00, 14.4MB/s]\n",
      "Downloading (…)okenizer_config.json: 100%|██████████| 314/314 [00:00<00:00, 192kB/s]\n",
      "Downloading (…)3bbb8001fa/vocab.txt: 100%|██████████| 232k/232k [00:00<00:00, 49.0MB/s]\n",
      "Downloading (…)b8001fa/modules.json: 100%|██████████| 229/229 [00:00<00:00, 165kB/s]\n"
     ]
    }
   ],
   "source": [
    "from sentence_transformers import SentenceTransformer, util\n",
    "model_match = SentenceTransformer('paraphrase-MiniLM-L6-v2')"
   ]
  },
  {
   "cell_type": "code",
   "execution_count": 8,
   "id": "73ce8709",
   "metadata": {
    "execution": {
     "iopub.execute_input": "2023-10-23T12:05:04.771339Z",
     "iopub.status.busy": "2023-10-23T12:05:04.770798Z",
     "iopub.status.idle": "2023-10-23T12:05:06.320554Z",
     "shell.execute_reply": "2023-10-23T12:05:06.319604Z"
    },
    "papermill": {
     "duration": 1.571748,
     "end_time": "2023-10-23T12:05:06.322919",
     "exception": false,
     "start_time": "2023-10-23T12:05:04.751171",
     "status": "completed"
    },
    "tags": []
   },
   "outputs": [],
   "source": [
    "import fitz\n",
    "from sklearn.feature_extraction.text import TfidfVectorizer\n",
    "from sklearn.metrics.pairwise import cosine_similarity\n",
    "from transformers import BartForConditionalGeneration, BartTokenizer\n",
    "import gym\n",
    "import numpy as np\n",
    "import torch\n",
    "import torch.nn as nn\n",
    "import torch.optim as optim\n",
    "import random\n",
    "\n",
    "# Function to extract text from a PDF file and split it into lines\n",
    "def extract_and_split_text(pdf_path):\n",
    "    doc = fitz.open(pdf_path)\n",
    "    lines = []\n",
    "\n",
    "    for page_num in range(doc.page_count):\n",
    "        page = doc[page_num]\n",
    "        text = page.get_text()\n",
    "        lines.extend(text.split('\\n'))\n",
    "\n",
    "    return lines\n",
    "\n",
    "# PDF file path\n",
    "pdf_path = \"/kaggle/input/vitbot/Academic_Regulations_3.2.pdf\"  # Update with your PDF file path\n",
    "\n",
    "# Extract and split text from the PDF\n",
    "documents = extract_and_split_text(pdf_path)\n",
    "\n",
    "# Initialize and fit the TF-IDF vectorizer\n",
    "tfidf_vectorizer = TfidfVectorizer()\n",
    "tfidf_matrix = tfidf_vectorizer.fit_transform(documents)\n"
   ]
  },
  {
   "cell_type": "code",
   "execution_count": 9,
   "id": "6a800bf1",
   "metadata": {
    "execution": {
     "iopub.execute_input": "2023-10-23T12:05:06.361607Z",
     "iopub.status.busy": "2023-10-23T12:05:06.361199Z",
     "iopub.status.idle": "2023-10-23T12:05:06.377739Z",
     "shell.execute_reply": "2023-10-23T12:05:06.376879Z"
    },
    "papermill": {
     "duration": 0.03837,
     "end_time": "2023-10-23T12:05:06.379518",
     "exception": false,
     "start_time": "2023-10-23T12:05:06.341148",
     "status": "completed"
    },
    "tags": []
   },
   "outputs": [],
   "source": [
    "import pickle\n",
    "\n",
    "# Define a custom Gym environment for the Chatbot\n",
    "class ChatbotEnv(gym.Env):\n",
    "    def __init__(self, documents):\n",
    "        super(ChatbotEnv, self).__init__()\n",
    "        self.documents = documents\n",
    "        self.observation_space = gym.spaces.Discrete(len(documents))\n",
    "        self.action_space = gym.spaces.Discrete(2)  # Two actions: 0 (bad feedback) and 1 (good feedback)\n",
    "        self.state = None\n",
    "\n",
    "    def step(self, action):\n",
    "        # Calculate reward based on user feedback\n",
    "        reward = self.calculate_reward(action)\n",
    "        done = True  # Terminate the episode after one step\n",
    "        info = {}\n",
    "\n",
    "        return self.state, reward, done, info\n",
    "\n",
    "    def reset(self):\n",
    "        # Randomly select a document as the initial state\n",
    "        self.state = random.choice(range(len(self.documents)))\n",
    "        return self.state\n",
    "\n",
    "    def calculate_reward(self, action):\n",
    "            # Implement a reward mechanism based on user feedback (0 for bad, 1 for good)\n",
    "            # For example, you can use a dictionary to map actions to rewards:\n",
    "            reward_mapping = {\n",
    "                0: -1,  # Bad feedback (penalize)\n",
    "                1: 1    # Good feedback (reward)\n",
    "            }\n",
    "            return reward_mapping.get(action, 0)  # Default to 0 if action is not found in the mapping\n",
    "\n",
    "# Define a simple Q-learning-based agent\n",
    "class QLearningAgent:\n",
    "    def __init__(self, num_states, num_actions, learning_rate=0.1, discount_factor=0.9, exploration_prob=0.2):\n",
    "        self.num_states = num_states\n",
    "        self.num_actions = num_actions\n",
    "        self.q_table = np.zeros((num_states, num_actions))\n",
    "        self.learning_rate = learning_rate\n",
    "        self.discount_factor = discount_factor\n",
    "        self.exploration_prob = exploration_prob\n",
    "        self.state = None\n",
    "        self.action = None\n",
    "\n",
    "    def select_action(self, state):\n",
    "        if random.random() < self.exploration_prob:\n",
    "            return random.choice(range(self.num_actions))\n",
    "        else:\n",
    "            return np.argmax(self.q_table[state, :])\n",
    "\n",
    "    def update_q_table(self, state, action, reward, next_state):\n",
    "        best_next_action = np.argmax(self.q_table[next_state, :])\n",
    "        self.q_table[state, action] = (1 - self.learning_rate) * self.q_table[state, action] + self.learning_rate * (reward + self.discount_factor * self.q_table[next_state, best_next_action])\n",
    "\n",
    "    def save_q_table(self, file_path):\n",
    "        with open(file_path, 'wb') as file:\n",
    "            pickle.dump(self.q_table, file)\n",
    "\n",
    "    def load_q_table(self, file_path):\n",
    "        with open(file_path, 'rb') as file:\n",
    "            self.q_table = pickle.load(file)\n",
    "\n",
    "# Create an RL environment\n",
    "chatbot_env = ChatbotEnv(documents)\n",
    "\n",
    "# Create a Q-learning agent\n",
    "num_states = len(documents)\n",
    "num_actions = 2  # 0 (bad feedback), 1 (good feedback)\n",
    "agent = QLearningAgent(num_states, num_actions)\n",
    "\n",
    "# Training loop\n",
    "for episode in range(10):\n",
    "    state = chatbot_env.reset()\n",
    "\n",
    "    for step in range(1):\n",
    "        action = agent.select_action(state)\n",
    "        next_state = state  # No state transition in this simplified example\n",
    "        reward = chatbot_env.calculate_reward(action)\n",
    "        agent.update_q_table(state, action, reward, next_state)"
   ]
  },
  {
   "cell_type": "code",
   "execution_count": 10,
   "id": "5f644d84",
   "metadata": {
    "execution": {
     "iopub.execute_input": "2023-10-23T12:05:06.418640Z",
     "iopub.status.busy": "2023-10-23T12:05:06.418296Z",
     "iopub.status.idle": "2023-10-23T12:05:06.426267Z",
     "shell.execute_reply": "2023-10-23T12:05:06.425520Z"
    },
    "papermill": {
     "duration": 0.029863,
     "end_time": "2023-10-23T12:05:06.428181",
     "exception": false,
     "start_time": "2023-10-23T12:05:06.398318",
     "status": "completed"
    },
    "tags": []
   },
   "outputs": [],
   "source": [
    "import random\n",
    "\n",
    "def rand_ques(file_path):\n",
    "  # Read the contents of the text file into a list\n",
    "  with open(file_path, \"r\") as file:\n",
    "      lines = file.readlines()\n",
    "\n",
    "  # Initialize variables to store questions and answers\n",
    "  questions = []\n",
    "  answers = []\n",
    "  current_question = None\n",
    "  current_answer = None\n",
    "\n",
    "  # Parse the text file to extract questions and answers\n",
    "  for line in lines:\n",
    "      line = line.strip()\n",
    "      if line.startswith(\"Question: \"):\n",
    "          # Store the previous question and answer (if available)\n",
    "          if current_question and current_answer:\n",
    "              questions.append(current_question)\n",
    "              answers.append(current_answer)\n",
    "          # Start a new question\n",
    "          current_question = line.replace(\"Question: \", \"\")\n",
    "          current_answer = None\n",
    "      elif line.startswith(\"Answer: \"):\n",
    "          # Store the answer\n",
    "          current_answer = line.replace(\"Answer: \", \"\")\n",
    "\n",
    "  # Store the last question and answer (if available)\n",
    "  if current_question and current_answer:\n",
    "      questions.append(current_question)\n",
    "      answers.append(current_answer)\n",
    "\n",
    "  # Randomly select a set of questions and answers\n",
    "  num_samples = 1  # Replace with the number of samples you want\n",
    "  random_samples = random.sample(range(len(questions)), num_samples)\n",
    "\n",
    "  # Print the randomly selected questions and answers\n",
    "  return questions[random_samples[0]],answers[random_samples[0]]"
   ]
  },
  {
   "cell_type": "code",
   "execution_count": 11,
   "id": "fd9a91c8",
   "metadata": {
    "execution": {
     "iopub.execute_input": "2023-10-23T12:05:06.466587Z",
     "iopub.status.busy": "2023-10-23T12:05:06.466327Z",
     "iopub.status.idle": "2023-10-23T12:05:06.470862Z",
     "shell.execute_reply": "2023-10-23T12:05:06.470095Z"
    },
    "papermill": {
     "duration": 0.025613,
     "end_time": "2023-10-23T12:05:06.472605",
     "exception": false,
     "start_time": "2023-10-23T12:05:06.446992",
     "status": "completed"
    },
    "tags": []
   },
   "outputs": [],
   "source": [
    "from sentence_transformers import SentenceTransformer, util\n",
    "\n",
    "def match_sentence(sentence1,sentence2):\n",
    "  # Encode the sentences to get their embeddings\n",
    "  embeddings = model_match.encode([sentence1, sentence2], convert_to_tensor=True)\n",
    "\n",
    "  # Calculate cosine similarity\n",
    "  cosine_score = util.pytorch_cos_sim(embeddings[0], embeddings[1])\n",
    "\n",
    "  return cosine_score.item()"
   ]
  },
  {
   "cell_type": "code",
   "execution_count": 12,
   "id": "f3693968",
   "metadata": {
    "execution": {
     "iopub.execute_input": "2023-10-23T12:05:06.510166Z",
     "iopub.status.busy": "2023-10-23T12:05:06.509875Z",
     "iopub.status.idle": "2023-10-23T12:25:51.564445Z",
     "shell.execute_reply": "2023-10-23T12:25:51.563622Z"
    },
    "papermill": {
     "duration": 1245.076126,
     "end_time": "2023-10-23T12:25:51.566360",
     "exception": false,
     "start_time": "2023-10-23T12:05:06.490234",
     "status": "completed"
    },
    "tags": []
   },
   "outputs": [
    {
     "name": "stdout",
     "output_type": "stream",
     "text": [
      "Episode 1, Total Reward: 11\n",
      "Episode 2, Total Reward: 5\n",
      "Episode 3, Total Reward: 9\n",
      "Episode 4, Total Reward: 9\n",
      "Episode 5, Total Reward: 11\n",
      "Episode 6, Total Reward: 13\n",
      "Episode 7, Total Reward: 5\n",
      "Episode 8, Total Reward: 9\n",
      "Episode 9, Total Reward: 9\n",
      "Episode 10, Total Reward: 9\n",
      "Episode 11, Total Reward: 13\n",
      "Episode 12, Total Reward: 9\n",
      "Episode 13, Total Reward: 11\n",
      "Episode 14, Total Reward: 9\n",
      "Episode 15, Total Reward: 13\n",
      "Episode 16, Total Reward: 9\n",
      "Episode 17, Total Reward: 9\n",
      "Episode 18, Total Reward: 9\n",
      "Episode 19, Total Reward: 7\n",
      "Episode 20, Total Reward: 13\n",
      "Episode 21, Total Reward: 9\n",
      "Episode 22, Total Reward: 9\n",
      "Episode 23, Total Reward: 9\n",
      "Episode 24, Total Reward: 9\n",
      "Episode 25, Total Reward: 11\n"
     ]
    },
    {
     "data": {
      "image/png": "[encoded data removed]",
      "text/plain": [
       "<Figure size 640x480 with 1 Axes>"
      ]
     },
     "metadata": {},
     "output_type": "display_data"
    }
   ],
   "source": [
    "import matplotlib.pyplot as plt\n",
    "\n",
    "# Training parameters\n",
    "num_episodes = 25\n",
    "\n",
    "file_path = \"/kaggle/input/vitbot/QA.txt\"  # Replace with the path to your text file\n",
    "\n",
    "# Lists to collect rewards and episode numbers for plotting\n",
    "rewards = []\n",
    "episode_numbers = []\n",
    "\n",
    "# Training loop\n",
    "for episode in range(num_episodes):\n",
    "    state = chatbot_env.reset()\n",
    "    total_reward = 0  # To track the cumulative reward for this episode\n",
    "\n",
    "    for step in range(15):\n",
    "        ques, ans = rand_ques(file_path)\n",
    "        user_query = ques\n",
    "\n",
    "        if user_query.lower() == 'exit':\n",
    "            break\n",
    "\n",
    "        user_query_vector = tfidf_vectorizer.transform([user_query])\n",
    "        similarity_scores = cosine_similarity(user_query_vector, tfidf_matrix)\n",
    "        sorted_indices = similarity_scores.argsort()[0][::-1]\n",
    "        top_matching_documents = [documents[i] for i in sorted_indices]\n",
    "\n",
    "        pdf_text = \" \".join(top_matching_documents[:100])\n",
    "\n",
    "        input_text = f\"User Query: {user_query}\\nPDF Text: {pdf_text}\"\n",
    "\n",
    "        input_ids = tokenizer.encode(input_text, return_tensors=\"pt\", max_length=1024, truncation=True)\n",
    "\n",
    "        # Adjust hyperparameters based on Q-values (for bad feedback)\n",
    "        q_value = agent.q_table[state][0]  # Using the Q-value for action 0 (bad feedback)\n",
    "        beam_size = int(4 + q_value * 6)  # Adjust beam size based on Q-value\n",
    "        min_length = int(30 - q_value * 10)  # Adjust min_length based on Q-value\n",
    "\n",
    "        # Generate the summary with adjusted hyperparameters\n",
    "        summary_ids = model.generate(input_ids, num_beams=beam_size, min_length=min_length, max_length=200, early_stopping=True)\n",
    "        summary = tokenizer.decode(summary_ids[0], skip_special_tokens=True)\n",
    "\n",
    "        probab = match_sentence(ans, summary)\n",
    "        if probab >= 0.50:\n",
    "            feedback = 1\n",
    "        else:\n",
    "            feedback = 0\n",
    "\n",
    "        # Update Q-table based on feedback (action 0 for bad feedback)\n",
    "        action = 0 if feedback == 0 else 1\n",
    "        agent.update_q_table(state, action, feedback, state)\n",
    "\n",
    "        rew = -1 if feedback == 0 else 1\n",
    "        total_reward += rew  # Collect cumulative reward for this episode\n",
    "\n",
    "        state = state  # Update the state (no state transition in this simplified example)\n",
    "\n",
    "    # Append the total reward and episode number to the lists\n",
    "    rewards.append(total_reward)\n",
    "    episode_numbers.append(episode + 1)\n",
    "    agent.save_q_table('q_table.pkl')\n",
    "\n",
    "    print(f\"Episode {episode + 1}, Total Reward: {total_reward}\")\n",
    "\n",
    "# Save the Q-table after training\n",
    "\n",
    "# Plot the convergence graph\n",
    "plt.plot(episode_numbers, rewards)\n",
    "plt.xlabel('Episode')\n",
    "plt.ylabel('Total Reward')\n",
    "plt.title('Convergence Graph')\n",
    "plt.grid(True)\n",
    "plt.show()"
   ]
  },
  {
   "cell_type": "code",
   "execution_count": 13,
   "id": "f9e34824",
   "metadata": {
    "execution": {
     "iopub.execute_input": "2023-10-23T12:25:51.608319Z",
     "iopub.status.busy": "2023-10-23T12:25:51.607895Z",
     "iopub.status.idle": "2023-10-23T12:25:51.612933Z",
     "shell.execute_reply": "2023-10-23T12:25:51.612255Z"
    },
    "papermill": {
     "duration": 0.027843,
     "end_time": "2023-10-23T12:25:51.614530",
     "exception": false,
     "start_time": "2023-10-23T12:25:51.586687",
     "status": "completed"
    },
    "tags": []
   },
   "outputs": [],
   "source": [
    "# Create a conversation loop\n",
    "# while True:\n",
    "#     user_query = input(\"You: \")\n",
    "\n",
    "#     if user_query.lower() == 'exit':\n",
    "#         break\n",
    "\n",
    "#     user_query_vector = tfidf_vectorizer.transform([user_query])\n",
    "#     similarity_scores = cosine_similarity(user_query_vector, tfidf_matrix)\n",
    "#     sorted_indices = similarity_scores.argsort()[0][::-1]\n",
    "#     top_matching_documents = [documents[i] for i in sorted_indices]\n",
    "\n",
    "#     pdf_text = \" \".join(top_matching_documents[:100])\n",
    "\n",
    "#     input_text = f\"User Query: {user_query}\\nPDF Text: {pdf_text}\"\n",
    "\n",
    "#     input_ids = tokenizer.encode(input_text, return_tensors=\"pt\", max_length=1024, truncation=True)\n",
    "\n",
    "#     # Adjust hyperparameters based on Q-values (simplified example)\n",
    "#     q_value = agent.q_table[chatbot_env.state][0]  # Using the Q-value for action 0\n",
    "#     beam_size = int(4 + q_value * 6)  # Adjust beam size based on Q-value\n",
    "#     min_length = int(30 - q_value * 10)  # Adjust min_length based on Q-value\n",
    "\n",
    "#     # Generate the summary with adjusted hyperparameters\n",
    "#     summary_ids = model.generate(input_ids, num_beams=beam_size, min_length=min_length, max_length=200, early_stopping=True)\n",
    "#     summary = tokenizer.decode(summary_ids[0], skip_special_tokens=True)\n",
    "\n",
    "#     print(\"Bot (BART): \", summary)\n",
    "\n",
    "#     # Use Q-learning agent to adjust the Q-values (simplified example)\n",
    "#     agent.state = chatbot_env.state\n",
    "#     feedback = int(input(\"Was the answer helpful? (0 for bad, 1 for good): \"))\n",
    "#     action = feedback  # Q-learning action based on feedback\n",
    "#     agent.update_q_table(agent.state, action, feedback, agent.state)\n",
    "\n",
    "#     if feedback == 0:\n",
    "#         print(\"Bot: I'm sorry the answer wasn't helpful. I'll try to improve.\")\n",
    "#     else:\n",
    "#         print(\"Bot: Thank you for the feedback. I'll continue to learn and provide better answers.\")"
   ]
  }
 ],
 "metadata": {
  "kernelspec": {
   "display_name": "Python 3",
   "language": "python",
   "name": "python3"
  },
  "language_info": {
   "codemirror_mode": {
    "name": "ipython",
    "version": 3
   },
   "file_extension": ".py",
   "mimetype": "text/x-python",
   "name": "python",
   "nbconvert_exporter": "python",
   "pygments_lexer": "ipython3",
   "version": "3.8.17"
  },
  "papermill": {
   "default_parameters": {},
   "duration": 1377.192004,
   "end_time": "2023-10-23T12:25:52.958905",
   "environment_variables": {},
   "exception": null,
   "input_path": "__notebook__.ipynb",
   "output_path": "__notebook__.ipynb",
   "parameters": {},
   "start_time": "2023-10-23T12:02:55.766901",
   "version": "2.4.0"
  }
 },
 "nbformat": 4,
 "nbformat_minor": 5
}
